{
 "cells": [
  {
   "cell_type": "code",
   "execution_count": 41,
   "metadata": {},
   "outputs": [
    {
     "data": {
      "image/png": "[encoded data removed]",
      "text/plain": [
       "<Figure size 720x720 with 1 Axes>"
      ]
     },
     "metadata": {
      "needs_background": "light"
     },
     "output_type": "display_data"
    }
   ],
   "source": [
    "import matplotlib.pyplot as plt\n",
    "import seaborn as sb\n",
    "import numpy as np\n",
    "import requests\n",
    "import urllib\n",
    "\n",
    "from sklearn.metrics import PrecisionRecallDisplay\n",
    "\n",
    "colors = [\n",
    "    \"#1F3F2A\", \n",
    "    \"#1FDF6F\", \n",
    "    \"#1DB954\", \n",
    "    \"#098E2A\",\n",
    "]\n",
    "\n",
    "sb.set_palette(sb.color_palette(colors))\n",
    "\n",
    "QRELS_FILE = \"data/relevant.txt\"\n",
    "\n",
    "\n",
    "# Read qrels to extract relevant documents\n",
    "relevant = list(map(lambda el: el.strip(), open(QRELS_FILE).readlines()))\n",
    "\n",
    "relevant_list_attribute = \"name\"\n",
    "\n",
    "# Read qrels to extract relevant documents\n",
    "relevant = list(map(lambda el: el.strip(), open(QRELS_FILE).readlines()))\n",
    "# Get query results from Solr instance\n",
    "results = requests.get(QUERY_URL).json()['response']['docs']\n",
    "\n",
    "systems = [\n",
    "    \"name lyrics artists.name artists.genres albums.name\",\n",
    "    \"name^5 lyrics^3 artists.name^1 artists.genres albums.name^3\",\n",
    "    \"name^1 lyrics^3 artists.name artists.genres^5 albums.name\",\n",
    "    \"name^3 lyrics^5 artists.name artists.genres albums.name\"\n",
    "]\n",
    "\n",
    "_, ax = plt.subplots(figsize=(10, 10))\n",
    "\n",
    "interpolated_precision = []\n",
    "interpolated_recall = []\n",
    "\n",
    "for i, system in enumerate(systems):\n",
    "    # Get query results from Solr instance\n",
    "    qf = urllib.parse.quote(system)\n",
    "    query_url = f\"http://localhost:8983/solr/music/select?defType=edismax&df=name%2Clyrics%2Cartists.name%2Cartists.genre&fl=name&indent=true&q.op=OR&q=love&qf={qf}&wt=json\"\n",
    "\n",
    "    results = requests.get(query_url).json()['response']['docs']\n",
    "\n",
    "    precision = [\n",
    "        len([\n",
    "            doc\n",
    "            for doc in results[:idx]\n",
    "            if doc[relevant_list_attribute] in relevant\n",
    "        ]) / idx\n",
    "        for idx, _ in enumerate(results, start=1)\n",
    "    ]\n",
    "\n",
    "    recall = [\n",
    "        len([\n",
    "            doc for doc in results[:idx]\n",
    "            if doc[relevant_list_attribute] in relevant\n",
    "        ]) / len(relevant)\n",
    "        for idx, _ in enumerate(results, start=1)\n",
    "    ]\n",
    "\n",
    "    precision_recall_match = dict(zip(recall, precision))\n",
    "\n",
    "    # Extend recall to include traditional steps for a better curve (0.1, 0.2 ...)\n",
    "    recall.extend([step for step in np.arange(0.1, 1.1, 0.1) if step not in recall])\n",
    "    recall = sorted(set(recall))\n",
    "\n",
    "    # Extend matching dict to include these new intermediate steps\n",
    "    for idx, step in enumerate(recall):\n",
    "        if step not in precision_recall_match:\n",
    "            if recall[idx - 1] in precision_recall_match:\n",
    "                precision_recall_match[step] = precision_recall_match[recall[idx - 1]]\n",
    "\n",
    "            else:\n",
    "                precision_recall_match[step] = precision_recall_match[recall[idx + 1]]\n",
    "\n",
    "    display = PrecisionRecallDisplay([precision_recall_match[r] for r in recall], recall)\n",
    "    display.plot(ax=ax, name=f\"WF{i}\")\n",
    "\n",
    "ax.legend(loc=\"upper left\")\n",
    "ax.set_xlabel(\"Recall\")\n",
    "ax.set_ylabel(\"Precision\")\n",
    "\n",
    "plt.savefig(\"out/precision_recall.png\")"
   ]
  }
 ],
 "metadata": {
  "interpreter": {
   "hash": "63fd5069d213b44bf678585dea6b12cceca9941eaf7f819626cde1f2670de90d"
  },
  "kernelspec": {
   "display_name": "Python 3.9.7 64-bit",
   "language": "python",
   "name": "python3"
  },
  "language_info": {
   "codemirror_mode": {
    "name": "ipython",
    "version": 3
   },
   "file_extension": ".py",
   "mimetype": "text/x-python",
   "name": "python",
   "nbconvert_exporter": "python",
   "pygments_lexer": "ipython3",
   "version": "3.9.7"
  },
  "orig_nbformat": 4
 },
 "nbformat": 4,
 "nbformat_minor": 2
}
