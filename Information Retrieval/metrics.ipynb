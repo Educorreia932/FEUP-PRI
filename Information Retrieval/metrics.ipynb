{
 "cells": [
  {
   "cell_type": "code",
   "execution_count": 2,
   "metadata": {},
   "outputs": [
    {
     "data": {
      "text/plain": [
       "<sklearn.metrics._plot.precision_recall_curve.PrecisionRecallDisplay at 0x1ca092cd730>"
      ]
     },
     "execution_count": 2,
     "metadata": {},
     "output_type": "execute_result"
    },
    {
     "data": {
      "image/png": "[encoded data removed]",
      "text/plain": [
       "<Figure size 432x288 with 1 Axes>"
      ]
     },
     "metadata": {
      "needs_background": "light"
     },
     "output_type": "display_data"
    }
   ],
   "source": [
    "import matplotlib.pyplot as plt\n",
    "import numpy as np\n",
    "import json\n",
    "import requests\n",
    "import pandas as pd\n",
    "\n",
    "from sklearn.metrics import PrecisionRecallDisplay\n",
    "\n",
    "QRELS_FILE = \"relevant.txt\"\n",
    "QUERY_URL = \"http://localhost:8983/solr/music/select?q=name:love&wt=json\"\n",
    "\n",
    "relevant_list_attribute = \"name\"\n",
    "\n",
    "# Read qrels to extract relevant documents\n",
    "relevant = list(map(lambda el: el.strip(), open(QRELS_FILE).readlines()))\n",
    "\n",
    "# Get query results from Solr instance\n",
    "results = requests.get(QUERY_URL).json()['response']['docs']\n",
    "\n",
    "\n",
    "# METRICS TABLE\n",
    "\n",
    "# Define custom decorator to automatically calculate metric based on key\n",
    "metrics = {}\n",
    "\n",
    "\n",
    "def metric(f):\n",
    "    return metrics.setdefault(f.__name__, f)\n",
    "\n",
    "\n",
    "@metric\n",
    "def ap(results, relevant):\n",
    "    \"\"\"Average Precision\"\"\"\n",
    "    precision_values = [len([doc for doc in results[:idx] if doc[relevant_list_attribute] in relevant]) / idx for idx in range(1, len(results))]\n",
    "\n",
    "    return sum(precision_values) / len(precision_values)\n",
    "\n",
    "\n",
    "@metric\n",
    "def p10(results, relevant, n=10):\n",
    "    \"\"\"Precision at N\"\"\"\n",
    "    return len([doc for doc in results[:n] if doc[relevant_list_attribute] in relevant]) / n\n",
    "\n",
    "\n",
    "@metric\n",
    "def recall(results, relevant):\n",
    "    \"\"\"Average Recall\"\"\"\n",
    "    recall = len([doc for doc in results if doc[relevant_list_attribute] in relevant]) / len(relevant)\n",
    "\n",
    "    return recall\n",
    "\n",
    "\n",
    "@metric\n",
    "def f_score(results, relevant):\n",
    "    precision = len([doc for doc in results if doc[relevant_list_attribute] in relevant]) / len([doc for doc in results])\n",
    "\n",
    "    recall = len([doc for doc in results if doc[relevant_list_attribute] in relevant]) / len(relevant)\n",
    "\n",
    "    if precision + recall == 0:\n",
    "        return 0\n",
    "\n",
    "    return (2 * precision * recall) / (precision + recall)\n",
    "\n",
    "\n",
    "def calculate_metric(key, results, relevant):\n",
    "    return metrics[key](results, relevant)\n",
    "\n",
    "\n",
    "# Define metrics to be calculated\n",
    "evaluation_metrics = {\n",
    "    'ap': 'Average Precision',\n",
    "    'p10': 'Precision at 10 (P@10)',\n",
    "    'recall': 'Recall',\n",
    "    'f_score': 'F-score/F-measure'\n",
    "}\n",
    "\n",
    "# Calculate all metrics and export results as LaTeX table\n",
    "df = pd.DataFrame([['Metric', 'Value']] + [[evaluation_metrics[m], calculate_metric(m, results, relevant)] for m in evaluation_metrics])\n",
    "\n",
    "with open('results.tex', 'w') as tf:\n",
    "    tf.write(df.to_latex())\n",
    "\n",
    "\n",
    "# PRECISION-RECALL CURVE\n",
    "\n",
    "# Calculate precision and recall values as we move down the ranked list\n",
    "precision_values = [len([doc for doc in results[:idx] if doc[relevant_list_attribute] in relevant]) / idx for idx, _ in enumerate(results, start=1)]\n",
    "recall_values = [len([doc for doc in results[:idx] if doc[relevant_list_attribute] in relevant]) / len(relevant) for idx, _ in enumerate(results, start=1)]\n",
    "precision_recall_match = {k: v for k, v in zip(recall_values, precision_values)}\n",
    "\n",
    "# Extend recall_values to include traditional steps for a better curve (0.1, 0.2 ...)\n",
    "recall_values.extend([step for step in np.arange(0.1, 1.1, 0.1) if step not in recall_values])\n",
    "recall_values = sorted(set(recall_values))\n",
    "\n",
    "# Extend matching dict to include these new intermediate steps\n",
    "for idx, step in enumerate(recall_values):\n",
    "    if step not in precision_recall_match:\n",
    "        if recall_values[idx - 1] in precision_recall_match:\n",
    "            precision_recall_match[step] = precision_recall_match[recall_values[idx - 1]]\n",
    "\n",
    "        else:\n",
    "            precision_recall_match[step] = precision_recall_match[recall_values[idx + 1]]\n",
    "\n",
    "disp = PrecisionRecallDisplay([precision_recall_match.get(r) for r in recall_values], recall_values)\n",
    "disp.plot()\n"
   ]
  }
 ],
 "metadata": {
  "interpreter": {
   "hash": "63fd5069d213b44bf678585dea6b12cceca9941eaf7f819626cde1f2670de90d"
  },
  "kernelspec": {
   "display_name": "Python 3.9.7 64-bit",
   "language": "python",
   "name": "python3"
  },
  "language_info": {
   "codemirror_mode": {
    "name": "ipython",
    "version": 3
   },
   "file_extension": ".py",
   "mimetype": "text/x-python",
   "name": "python",
   "nbconvert_exporter": "python",
   "pygments_lexer": "ipython3",
   "version": "3.9.7"
  },
  "orig_nbformat": 4
 },
 "nbformat": 4,
 "nbformat_minor": 2
}
