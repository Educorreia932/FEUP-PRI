{
 "cells": [
  {
   "cell_type": "markdown",
   "metadata": {},
   "source": [
    "# Load data"
   ]
  },
  {
   "cell_type": "code",
   "execution_count": null,
   "metadata": {},
   "outputs": [],
   "source": [
    "import os\n",
    "import pandas as pd\n",
    "import sqlite3\n",
    "\n",
    "import matplotlib.pyplot as plt\n",
    "\n",
    "def has_swear_word(text):\n",
    "    if text == None:\n",
    "        return False\n",
    "    words = text.split()\n",
    "    for w in words:\n",
    "        for sw in swear_words:\n",
    "            if sw.lower() == w.lower():\n",
    "                return True\n",
    "    return False\n",
    "\n",
    "#Get swear word list\n",
    "with open(\"../src/swear_word_list.txt\", 'r') as f:\n",
    "    swear_words = [line.strip() for line in f]\n",
    "\n",
    "con = sqlite3.connect(\"../data/database.db\")\n",
    "\n",
    "track_df = pd.read_sql(\"SELECT * FROM Track\", con=con)\n",
    "artist_df = pd.read_sql(\"SELECT * from Artist\", con=con)\n",
    "album_df = pd.read_sql(\"SELECT * FROM Album\", con=con)"
   ]
  },
  {
   "cell_type": "markdown",
   "metadata": {},
   "source": [
    "# Drop null or empty values"
   ]
  },
  {
   "cell_type": "code",
   "execution_count": null,
   "metadata": {},
   "outputs": [],
   "source": [
    "track_df.replace(\"\", float(\"NaN\"), inplace=True)\n",
    "track_df.dropna(inplace=True)"
   ]
  },
  {
   "cell_type": "markdown",
   "metadata": {},
   "source": [
    "# Handle escaped characters"
   ]
  },
  {
   "cell_type": "code",
   "execution_count": null,
   "metadata": {},
   "outputs": [],
   "source": [
    "track_df[\"lyrics\"].replace(\"\\'\", \"'\", regex=True, inplace=True)\n",
    "track_df[\"lyrics\"]"
   ]
  },
  {
   "cell_type": "markdown",
   "metadata": {},
   "source": [
    "# Remove duplicate lyrics track entries"
   ]
  },
  {
   "cell_type": "code",
   "execution_count": null,
   "metadata": {},
   "outputs": [],
   "source": [
    "track_df.drop_duplicates(subset=\"lyrics\", keep=False, inplace=True);\n",
    "track_df[\"lyrics\"]"
   ]
  },
  {
   "cell_type": "markdown",
   "metadata": {},
   "source": [
    "# Tag explicit tracks and artists"
   ]
  },
  {
   "cell_type": "code",
   "execution_count": null,
   "metadata": {},
   "outputs": [],
   "source": [
    "artist_df['explicit'] = artist_df['name'].apply(lambda x: has_swear_word(x))\n",
    "\n",
    "album_df['explicit'] = album_df['name'].apply(lambda x: has_swear_word(x))\n",
    "\n",
    "track_df['explicitname'] = track_df['name'].apply(lambda x: has_swear_word(x))\n",
    "track_df['explicittrack'] = track_df['lyrics'].apply(lambda x: has_swear_word(x))\n",
    "track_df['explicit'] = track_df['explicitname'] | track_df['explicittrack']\n",
    "\n",
    "track_df.drop(columns=['explicittrack', 'explicitname'], inplace=True)"
   ]
  },
  {
   "cell_type": "markdown",
   "metadata": {},
   "source": [
    "# Remove artist features from track name"
   ]
  },
  {
   "cell_type": "code",
   "execution_count": null,
   "metadata": {},
   "outputs": [],
   "source": [
    "track_df[\"name\"].replace(r\" \\(feat\\..*\\)\", \"\", regex=True, inplace=True)\n",
    "track_df[\"name\"]"
   ]
  },
  {
   "cell_type": "markdown",
   "metadata": {},
   "source": [
    "# Save changes"
   ]
  },
  {
   "cell_type": "code",
   "execution_count": null,
   "metadata": {},
   "outputs": [],
   "source": [
    "from sqlalchemy import select, delete, Table, MetaData\n",
    "\n",
    "con.execute(\"DELETE from track\")\n",
    "con.execute(\"DELETE from artist\")\n",
    "con.execute(\"DELETE from album\")\n",
    "\n",
    "con.execute(\"ALTER TABLE track ADD COLUMN explicit Boolean\")\n",
    "con.execute(\"ALTER TABLE artist ADD COLUMN explicit Boolean\")\n",
    "con.execute(\"ALTER TABLE album ADD COLUMN explicit Boolean\")\n",
    "\n",
    "track_df.to_sql(\"track\", con=con, if_exists='replace', index=False)\n",
    "artist_df.to_sql(\"artist\", con=con, if_exists='replace', index=False)\n",
    "album_df.to_sql(\"album\", con=con, if_exists='replace', index=False)\n",
    "\n",
    "con.execute(\"PRAGMA foreign_keys = OFF;\")\n",
    "\n",
    "# Remove TrackArtist entries for non-existing tracks\n",
    "con.execute(\n",
    "    \"\"\"\n",
    "    DELETE FROM track_artist_through\n",
    "    WHERE track_id NOT IN (\n",
    "        SELECT id\n",
    "        FROM track\n",
    "    );\n",
    "    \"\"\"\n",
    ")\n",
    "\n",
    "# Remove AlbumArtist entries for non-existing albums\n",
    "con.execute(\n",
    "    \"\"\"\n",
    "    DELETE FROM album_artist_through\n",
    "    WHERE album_id NOT IN (\n",
    "        SELECT id\n",
    "        FROM album\n",
    "    );\n",
    "    \"\"\"\n",
    ")\n",
    "\n",
    "# Remove AlbumTrack entries for non-existing tracks\n",
    "con.execute(\n",
    "    \"\"\"\n",
    "    DELETE FROM albumtrack\n",
    "    WHERE track_id NOT IN (\n",
    "        SELECT id\n",
    "        FROM track\n",
    "    );\n",
    "    \"\"\"\n",
    ")\n",
    "\n",
    "# Remove Album entries for non-existing album tracks\n",
    "con.execute(\n",
    "    \"\"\"\n",
    "    DELETE FROM album\n",
    "    WHERE id NOT IN (\n",
    "        SELECT DISTINCT album_id\n",
    "        FROM albumtrack\n",
    "    );\n",
    "    \"\"\"\n",
    ")\n",
    "\n",
    "# Remove Artist entries for non-existing (track or album) artists\n",
    "con.execute(\n",
    "    \"\"\"\n",
    "    DELETE FROM artist\n",
    "    WHERE id NOT IN (\n",
    "        SELECT DISTINCT artist_id\n",
    "        FROM track_artist_through \n",
    "        UNION\n",
    "        SELECT DISTINCT artist_id\n",
    "        FROM album_artist_through\n",
    "    );\n",
    "    \"\"\"\n",
    ")  \n",
    "\n",
    "# Close connection\n",
    "con.close()"
   ]
  }
 ],
 "metadata": {
  "interpreter": {
   "hash": "63fd5069d213b44bf678585dea6b12cceca9941eaf7f819626cde1f2670de90d"
  },
  "kernelspec": {
   "display_name": "Python 3.9.7 64-bit",
   "language": "python",
   "name": "python3"
  },
  "language_info": {
   "codemirror_mode": {
    "name": "ipython",
    "version": 3
   },
   "file_extension": ".py",
   "mimetype": "text/x-python",
   "name": "python",
   "nbconvert_exporter": "python",
   "pygments_lexer": "ipython3",
   "version": "3.8.0"
  },
  "orig_nbformat": 4
 },
 "nbformat": 4,
 "nbformat_minor": 2
}
