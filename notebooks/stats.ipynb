{
 "cells": [
  {
   "cell_type": "markdown",
   "metadata": {},
   "source": [
    "## Load data"
   ]
  },
  {
   "cell_type": "code",
   "execution_count": null,
   "metadata": {},
   "outputs": [],
   "source": [
    "import pandas as pd\n",
    "import seaborn as sb\n",
    "import sqlite3\n",
    "\n",
    "import matplotlib.pyplot as plt\n",
    "\n",
    "con = sqlite3.connect(\"../data/database.db\")\n",
    "\n",
    "album_df = pd.read_sql(\"SELECT * FROM Album\", con=con)\n",
    "genre_df = pd.read_sql(\"SELECT * FROM Genre\", con=con)\n",
    "artist_df = pd.read_sql(\"SELECT * FROM Artist\", con=con)\n",
    "track_df = pd.read_sql(\"SELECT * FROM Track\", con=con)\n",
    "\n",
    "artist_genre_df = pd.read_sql(\"SELECT * FROM Artist_Genre_Through\", con=con)\n",
    "album_artist_df = pd.read_sql(\"SELECT * FROM Album_Artist_Through\", con=con)\n",
    "track_artist_df = pd.read_sql(\"SELECT * FROM Track_Artist_Through\", con=con)\n",
    "\n",
    "# Close connection\n",
    "con.close()\n",
    "\n",
    "artist_df.sort_values(by=[\"popularity\"], ascending=False, inplace=True)\n",
    "\n",
    "track_df[\"duration_m\"] = track_df[\"duration_ms\"] / 60000  # Convert duration from miliseconds to minutes\n",
    "album_df[\"release_year\"] = album_df[\"release_date\"].apply(lambda x: str(x).split(\"-\")[0])\n",
    "\n",
    "# Set Seaborn figure size\n",
    "sb.set(rc={'figure.figsize': (14, 9)}) "
   ]
  },
  {
   "cell_type": "markdown",
   "metadata": {},
   "source": [
    "# Seaborn settings"
   ]
  },
  {
   "cell_type": "code",
   "execution_count": null,
   "metadata": {},
   "outputs": [],
   "source": [
    "# Create an array with the colors you want to use\n",
    "colors = [\n",
    "    \"#1DB954\", \n",
    "    \"#1ED760\", \n",
    "    \"#20E95D\",\n",
    "    \"#191414\", \n",
    "]\n",
    "\n",
    "# Set your custom color palette\n",
    "sb.set_palette(sb.color_palette(colors))"
   ]
  },
  {
   "cell_type": "markdown",
   "metadata": {},
   "source": [
    "# Charts"
   ]
  },
  {
   "cell_type": "markdown",
   "metadata": {},
   "source": [
    "## Most frequent words in tracks' lyrics"
   ]
  },
  {
   "cell_type": "code",
   "execution_count": null,
   "metadata": {},
   "outputs": [],
   "source": [
    "from nltk.corpus import stopwords\n",
    "\n",
    "stops = set(stopwords.words('english'))\n",
    "\n",
    "def calculate_frequencies(values):\n",
    "    frequencies = {}\n",
    "\n",
    "    for text in values:\n",
    "        text = text.replace(\",\", \"\").replace(\"!\", \"\").replace(\".\", \"\").lower()\n",
    "        text = re.sub(r'\\W+ ', '', text)\n",
    "\n",
    "        for sentence in text.split(\"\\n\"):\n",
    "            for word in sentence.split(\" \"):\n",
    "                if len(word) > 2 and word not in stops:\n",
    "                    if word in frequencies:\n",
    "                        frequencies[word] += 1\n",
    "\n",
    "                    else:\n",
    "                        frequencies[word] = 1\n",
    "\n",
    "    return frequencies"
   ]
  },
  {
   "cell_type": "code",
   "execution_count": null,
   "metadata": {},
   "outputs": [],
   "source": [
    "import re\n",
    "\n",
    "from wordcloud import WordCloud\n",
    "from matplotlib.pyplot import figure\n",
    "\n",
    "figure(figsize=(30, 8))\n",
    "\n",
    "frequencies = calculate_frequencies(track_df[\"lyrics\"].values)\n",
    "frequencies[\"i'm\"] = 0\n",
    "\n",
    "wordcloud = WordCloud(width=2000, height=2000, background_color=\"white\", colormap=sb.color_palette(\"dark:#20E95D\", as_cmap=True))\n",
    "wordcloud.generate_from_frequencies(frequencies)\n",
    "\n",
    "plt.imshow(wordcloud, interpolation=\"bilinear\");\n",
    "plt.axis(\"off\");\n",
    "\n",
    "plt.savefig('../out/charts/track_lyrics_wordcloud.png');\n",
    "\n",
    "plt.show();"
   ]
  },
  {
   "cell_type": "markdown",
   "metadata": {},
   "source": [
    "## Most frequent words in tracks' names"
   ]
  },
  {
   "cell_type": "code",
   "execution_count": null,
   "metadata": {},
   "outputs": [],
   "source": [
    "frequencies = calculate_frequencies(track_df[\"name\"].values)\n",
    "frequencies[\"remix\"] = 0\n",
    "\n",
    "wordcloud = WordCloud(width=2000, height=2000, background_color=\"white\", colormap=sb.color_palette(\"dark:#20E95D\", as_cmap=True))\n",
    "wordcloud.generate_from_frequencies(frequencies)\n",
    "\n",
    "plt.imshow(wordcloud, interpolation=\"bilinear\")\n",
    "plt.axis(\"off\")\n",
    "\n",
    "plt.savefig('../out/charts/track_names_wordcloud.png');\n",
    "\n",
    "plt.show();"
   ]
  },
  {
   "cell_type": "markdown",
   "metadata": {},
   "source": [
    "## Number of albums over the years"
   ]
  },
  {
   "cell_type": "code",
   "execution_count": null,
   "metadata": {},
   "outputs": [],
   "source": [
    "g = sb.countplot(\n",
    "    x=\"release_year\", \n",
    "    data=album_df.sort_values(by=\"release_year\", ascending=False),\n",
    "    palette=sb.color_palette(\"dark:#20E95D\")\n",
    ");\n",
    "\n",
    "g.set_xticklabels(g.get_xticklabels(), rotation=90);\n",
    "\n",
    "plt.xlabel(\"Release year\");\n",
    "plt.ylabel(\"Number of albums\");\n",
    "\n",
    "g.figure.savefig(\"../out/charts/album_over_years.png\")"
   ]
  },
  {
   "cell_type": "markdown",
   "metadata": {},
   "source": [
    "## Most common artist genres"
   ]
  },
  {
   "cell_type": "code",
   "execution_count": null,
   "metadata": {},
   "outputs": [],
   "source": [
    "artist_genres_df = artist_df.merge(artist_genre_df, left_on=\"id\", right_on=\"artist_id\") \\\n",
    "    .merge(genre_df, left_on=\"genre_id\", right_on=\"id\") \\\n",
    "    .rename(columns={\"name_y\": \"genre_name\"})"
   ]
  },
  {
   "cell_type": "code",
   "execution_count": null,
   "metadata": {},
   "outputs": [],
   "source": [
    "g = sb.countplot(\n",
    "    x=\"genre_name\", \n",
    "    data=artist_genres_df, \n",
    "    order=artist_genres_df[\"genre_name\"].value_counts().iloc[:50].index,\n",
    "    palette=sb.color_palette(\"dark:#20E95D\")\n",
    ")\n",
    "\n",
    "g.set_xticklabels(g.get_xticklabels(), rotation=90);\n",
    "\n",
    "plt.xlabel(\"Genre\");\n",
    "plt.ylabel(\"Number of artist\");\n",
    "\n",
    "g.figure.savefig(\"../out/charts/artist_genres.png\")"
   ]
  },
  {
   "cell_type": "markdown",
   "metadata": {},
   "source": [
    "## Audio features"
   ]
  },
  {
   "cell_type": "code",
   "execution_count": null,
   "metadata": {},
   "outputs": [],
   "source": [
    "fig, axs = plt.subplots(3, 3)\n",
    "\n",
    "sb.histplot(data=track_df, x=\"acousticness\", kde=True, ax=axs[0][0], hue=\"mode\");\n",
    "sb.histplot(data=track_df, x=\"danceability\", kde=True, ax=axs[0][1], hue=\"mode\");\n",
    "sb.histplot(data=track_df, x=\"energy\", kde=True, ax=axs[0][2], hue=\"mode\");\n",
    "sb.histplot(data=track_df, x=\"speechiness\", kde=True, ax=axs[1][0], hue=\"mode\");\n",
    "sb.histplot(data=track_df, x=\"loudness\", kde=True, ax=axs[1][2], hue=\"mode\");\n",
    "sb.histplot(data=track_df, x=\"tempo\", kde=True, ax=axs[2][0], hue=\"mode\");\n",
    "sb.histplot(data=track_df, x=\"valence\", kde=True, ax=axs[2][1], hue=\"mode\");\n",
    "sb.histplot(data=track_df, x=\"duration_m\", kde=True, ax=axs[2][2], hue=\"mode\");\n",
    "\n",
    "plt.tight_layout(pad=0.4, w_pad=0.5, h_pad=1.0)\n",
    "\n",
    "fig.savefig(\"../out/charts/audio_features.png\")"
   ]
  },
  {
   "cell_type": "markdown",
   "metadata": {},
   "source": [
    "## Artist popularity"
   ]
  },
  {
   "cell_type": "code",
   "execution_count": null,
   "metadata": {},
   "outputs": [],
   "source": [
    "num_tracks_df = track_artist_df.groupby(\"artist_id\").size().reset_index(name=\"num_tracks\")\n",
    "artist_df = artist_df.merge(num_tracks_df, left_on=\"id\", right_on=\"artist_id\").drop(columns=[\"artist_id\"])\n",
    "\n",
    "num_albums_df = album_artist_df.groupby(\"artist_id\").size().reset_index(name=\"num_albums\")\n",
    "artist_df = artist_df.merge(num_albums_df, left_on=\"id\", right_on=\"artist_id\").drop(columns=[\"artist_id\"])\n",
    "\n",
    "artist_df.drop(artist_df.loc[artist_df[\"name\"] == \"Various Artists\"].index, inplace=True)"
   ]
  },
  {
   "cell_type": "code",
   "execution_count": null,
   "metadata": {},
   "outputs": [],
   "source": [
    "\n",
    "g = sb.scatterplot(\n",
    "    x=\"num_tracks\", \n",
    "    y=\"num_albums\", \n",
    "    size=\"popularity\", \n",
    "    hue=\"popularity\",\n",
    "    sizes=(20, 750),\n",
    "    alpha=0.5,\n",
    "    linewidth=0,\n",
    "    data=artist_df,\n",
    "    palette=sb.color_palette(\"dark:#20E95D\", as_cmap=True)\n",
    ");\n",
    "\n",
    "plt.xlabel(\"Number of tracks\");\n",
    "plt.ylabel(\"Number of albums\");\n",
    "\n",
    "g.figure.savefig(\"../out/charts/artist_popularity.png\")"
   ]
  }
 ],
 "metadata": {
  "interpreter": {
   "hash": "63fd5069d213b44bf678585dea6b12cceca9941eaf7f819626cde1f2670de90d"
  },
  "kernelspec": {
   "display_name": "Python 3.9.7 64-bit",
   "language": "python",
   "name": "python3"
  },
  "language_info": {
   "codemirror_mode": {
    "name": "ipython",
    "version": 3
   },
   "file_extension": ".py",
   "mimetype": "text/x-python",
   "name": "python",
   "nbconvert_exporter": "python",
   "pygments_lexer": "ipython3",
   "version": "3.9.7"
  },
  "orig_nbformat": 4
 },
 "nbformat": 4,
 "nbformat_minor": 2
}
