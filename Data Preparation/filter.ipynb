{
 "cells": [
  {
   "cell_type": "markdown",
   "metadata": {},
   "source": [
    "# Load data"
   ]
  },
  {
   "cell_type": "code",
   "execution_count": 1,
   "metadata": {},
   "outputs": [],
   "source": [
    "import os\n",
    "import pandas as pd\n",
    "import sqlite3\n",
    "\n",
    "import matplotlib.pyplot as plt\n",
    "\n",
    "def has_swear_word(text):\n",
    "    if text == None:\n",
    "        return False\n",
    "    \n",
    "    words = text.split()\n",
    "\n",
    "    for w in words:\n",
    "        for sw in swear_words:\n",
    "            if sw.lower() == w.lower():\n",
    "                return True\n",
    "    return False\n",
    "\n",
    "#Get swear word list\n",
    "with open(\"swear_word_list.txt\", 'r') as f:\n",
    "    swear_words = [line.strip() for line in f]\n",
    "\n",
    "con = sqlite3.connect(\"data/database.db\")\n",
    "\n",
    "track_df = pd.read_sql(\"SELECT * FROM Track\", con=con)\n",
    "artist_df = pd.read_sql(\"SELECT * from Artist\", con=con)\n",
    "album_df = pd.read_sql(\"SELECT * FROM Album\", con=con)"
   ]
  },
  {
   "cell_type": "markdown",
   "metadata": {},
   "source": [
    "# Drop null or empty values"
   ]
  },
  {
   "cell_type": "code",
   "execution_count": 2,
   "metadata": {},
   "outputs": [],
   "source": [
    "track_df.replace(\"\", float(\"NaN\"), inplace=True)\n",
    "track_df.dropna(inplace=True)"
   ]
  },
  {
   "cell_type": "markdown",
   "metadata": {},
   "source": [
    "# Handle escaped characters"
   ]
  },
  {
   "cell_type": "code",
   "execution_count": 3,
   "metadata": {},
   "outputs": [
    {
     "data": {
      "text/plain": [
       "0        Music make you lose control, music make you lo...\n",
       "1        Baby, can't you see I'm calling?\\nA guy like y...\n",
       "2        Don't be so quick to walk away\\nDance with me\\...\n",
       "3        Yo, man\\nYo\\nOpen up, man\\nYo, what you want, ...\n",
       "4        Peace up, A-Town down\\nYeah, yeah! Okay, okay!...\n",
       "                               ...                        \n",
       "12823    7/1\\nAmerican Authors - What We Live For - 12/...\n",
       "12824    Segundo toque\\nE eu não vou, Amor\\nFaço gala\\n...\n",
       "12825    You know my soul\\nI pay no mind\\nNo mind at al...\n",
       "12826    Oh, see the storm is threatening\\nMy very life...\n",
       "12827    Drifting out\\nWith the breeze\\nHoping to\\nJust...\n",
       "Name: lyrics, Length: 12828, dtype: object"
      ]
     },
     "execution_count": 3,
     "metadata": {},
     "output_type": "execute_result"
    }
   ],
   "source": [
    "track_df[\"lyrics\"].replace(\"\\'\", \"'\", regex=True, inplace=True)\n",
    "track_df[\"lyrics\"]"
   ]
  },
  {
   "cell_type": "markdown",
   "metadata": {},
   "source": [
    "# Remove duplicate lyrics track entries"
   ]
  },
  {
   "cell_type": "code",
   "execution_count": 4,
   "metadata": {},
   "outputs": [
    {
     "data": {
      "text/plain": [
       "0        Music make you lose control, music make you lo...\n",
       "1        Baby, can't you see I'm calling?\\nA guy like y...\n",
       "2        Don't be so quick to walk away\\nDance with me\\...\n",
       "3        Yo, man\\nYo\\nOpen up, man\\nYo, what you want, ...\n",
       "4        Peace up, A-Town down\\nYeah, yeah! Okay, okay!...\n",
       "                               ...                        \n",
       "12823    7/1\\nAmerican Authors - What We Live For - 12/...\n",
       "12824    Segundo toque\\nE eu não vou, Amor\\nFaço gala\\n...\n",
       "12825    You know my soul\\nI pay no mind\\nNo mind at al...\n",
       "12826    Oh, see the storm is threatening\\nMy very life...\n",
       "12827    Drifting out\\nWith the breeze\\nHoping to\\nJust...\n",
       "Name: lyrics, Length: 12828, dtype: object"
      ]
     },
     "execution_count": 4,
     "metadata": {},
     "output_type": "execute_result"
    }
   ],
   "source": [
    "track_df.drop_duplicates(subset=\"lyrics\", keep=False, inplace=True);\n",
    "track_df[\"lyrics\"]"
   ]
  },
  {
   "cell_type": "markdown",
   "metadata": {},
   "source": [
    "# Tag explicit tracks and artists"
   ]
  },
  {
   "cell_type": "code",
   "execution_count": 5,
   "metadata": {},
   "outputs": [],
   "source": [
    "artist_df['explicit'] = artist_df['name'].apply(lambda x: has_swear_word(x))\n",
    "\n",
    "album_df['explicit'] = album_df['name'].apply(lambda x: has_swear_word(x))\n",
    "\n",
    "track_df['explicitname'] = track_df['name'].apply(lambda x: has_swear_word(x))\n",
    "track_df['explicittrack'] = track_df['lyrics'].apply(lambda x: has_swear_word(x))\n",
    "track_df['explicit'] = track_df['explicitname'] | track_df['explicittrack']\n",
    "\n",
    "track_df.drop(columns=['explicittrack', 'explicitname'], inplace=True)"
   ]
  },
  {
   "cell_type": "markdown",
   "metadata": {},
   "source": [
    "# Remove artist features from track name"
   ]
  },
  {
   "cell_type": "code",
   "execution_count": 6,
   "metadata": {},
   "outputs": [
    {
     "data": {
      "text/plain": [
       "0          Lose Control\n",
       "1                 Toxic\n",
       "2        Rock Your Body\n",
       "3          It Wasn't Me\n",
       "4                 Yeah!\n",
       "              ...      \n",
       "12823    We Were Summer\n",
       "12824           Sirumba\n",
       "12825              Pish\n",
       "12826     Gimme Shelter\n",
       "12827    Across the Sea\n",
       "Name: name, Length: 12828, dtype: object"
      ]
     },
     "execution_count": 6,
     "metadata": {},
     "output_type": "execute_result"
    }
   ],
   "source": [
    "track_df[\"name\"].replace(r\" \\(feat\\..*\\)\", \"\", regex=True, inplace=True)\n",
    "track_df[\"name\"]"
   ]
  },
  {
   "cell_type": "markdown",
   "metadata": {},
   "source": [
    "# Save changes"
   ]
  },
  {
   "cell_type": "code",
   "execution_count": 12,
   "metadata": {},
   "outputs": [],
   "source": [
    "from sqlalchemy import select, delete, Table, MetaData\n",
    "\n",
    "con.execute(\"DELETE from track\")\n",
    "con.execute(\"DELETE from artist\")\n",
    "con.execute(\"DELETE from album\")\n",
    "\n",
    "\n",
    "\n",
    "track_df.to_sql(\"track\", con=con, if_exists='replace', index=False)\n",
    "artist_df.to_sql(\"artist\", con=con, if_exists='replace', index=False)\n",
    "album_df.to_sql(\"album\", con=con, if_exists='replace', index=False)\n",
    "\n",
    "con.execute(\"PRAGMA foreign_keys = OFF;\")\n",
    "\n",
    "# Remove TrackArtist entries for non-existing tracks\n",
    "con.execute(\n",
    "    \"\"\"\n",
    "    DELETE FROM track_artist_through\n",
    "    WHERE track_id NOT IN (\n",
    "        SELECT id\n",
    "        FROM track\n",
    "    );\n",
    "    \"\"\"\n",
    ")\n",
    "\n",
    "# Remove AlbumArtist entries for non-existing albums\n",
    "con.execute(\n",
    "    \"\"\"\n",
    "    DELETE FROM album_artist_through\n",
    "    WHERE album_id NOT IN (\n",
    "        SELECT id\n",
    "        FROM album\n",
    "    );\n",
    "    \"\"\"\n",
    ")\n",
    "\n",
    "# Remove AlbumTrack entries for non-existing tracks\n",
    "con.execute(\n",
    "    \"\"\"\n",
    "    DELETE FROM track_album_through\n",
    "    WHERE track_id NOT IN (\n",
    "        SELECT id\n",
    "        FROM track\n",
    "    );\n",
    "    \"\"\"\n",
    ")\n",
    "\n",
    "# Remove Album entries for non-existing album tracks\n",
    "con.execute(\n",
    "    \"\"\"\n",
    "    DELETE FROM album\n",
    "    WHERE id NOT IN (\n",
    "        SELECT DISTINCT album_id\n",
    "        FROM track_album_through\n",
    "    );\n",
    "    \"\"\"\n",
    ")\n",
    "\n",
    "# Remove Artist entries for non-existing (track or album) artists\n",
    "con.execute(\n",
    "    \"\"\"\n",
    "    DELETE FROM artist\n",
    "    WHERE id NOT IN (\n",
    "        SELECT DISTINCT artist_id\n",
    "        FROM track_artist_through \n",
    "        UNION\n",
    "        SELECT DISTINCT artist_id\n",
    "        FROM album_artist_through\n",
    "    );\n",
    "    \"\"\"\n",
    ")  \n",
    "\n",
    "# Close connection\n",
    "con.close()"
   ]
  }
 ],
 "metadata": {
  "interpreter": {
   "hash": "63fd5069d213b44bf678585dea6b12cceca9941eaf7f819626cde1f2670de90d"
  },
  "kernelspec": {
   "display_name": "Python 3.9.7 64-bit",
   "language": "python",
   "name": "python3"
  },
  "language_info": {
   "codemirror_mode": {
    "name": "ipython",
    "version": 3
   },
   "file_extension": ".py",
   "mimetype": "text/x-python",
   "name": "python",
   "nbconvert_exporter": "python",
   "pygments_lexer": "ipython3",
   "version": "3.9.7"
  },
  "orig_nbformat": 4
 },
 "nbformat": 4,
 "nbformat_minor": 2
}
